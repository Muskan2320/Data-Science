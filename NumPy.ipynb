{
  "nbformat": 4,
  "nbformat_minor": 0,
  "metadata": {
    "colab": {
      "provenance": [],
      "authorship_tag": "ABX9TyPGh+tmLyGOQZ3CkELpzBMC",
      "include_colab_link": true
    },
    "kernelspec": {
      "name": "python3",
      "display_name": "Python 3"
    },
    "language_info": {
      "name": "python"
    }
  },
  "cells": [
    {
      "cell_type": "markdown",
      "metadata": {
        "id": "view-in-github",
        "colab_type": "text"
      },
      "source": [
        "<a href=\"https://colab.research.google.com/github/Muskan2320/Data-Science/blob/main/NumPy.ipynb\" target=\"_parent\"><img src=\"https://colab.research.google.com/assets/colab-badge.svg\" alt=\"Open In Colab\"/></a>"
      ]
    },
    {
      "cell_type": "markdown",
      "source": [
        "# NumPy\n",
        "\n",
        "NumPy is a library for the Python programming language, adding support for large, multi-dimensional arrays and matrices, along with a large collection of high-level mathematical functions to operate on these arrays. It also has functions for working in domain of linear algebra, fourier transform, and matrices."
      ],
      "metadata": {
        "id": "z_kwYLQF07wr"
      }
    },
    {
      "cell_type": "code",
      "execution_count": 2,
      "metadata": {
        "id": "eYGk1DH-03UC"
      },
      "outputs": [],
      "source": [
        "import numpy as np"
      ]
    },
    {
      "cell_type": "markdown",
      "source": [
        "# Array\n",
        "\n",
        "The array object in NumPy is called ndarray"
      ],
      "metadata": {
        "id": "B4E10laK1cmk"
      }
    },
    {
      "cell_type": "code",
      "source": [
        "a = np.array([1,2])             # Create 1D array. It can have multi-dimensional arrays also.\n",
        "\n",
        "print(a)\n",
        "print(type(a))"
      ],
      "metadata": {
        "colab": {
          "base_uri": "https://localhost:8080/"
        },
        "id": "NIyQBra505jM",
        "outputId": "b10c32e3-865d-44fa-9262-8bd1d93b97c9"
      },
      "execution_count": null,
      "outputs": [
        {
          "output_type": "stream",
          "name": "stdout",
          "text": [
            "[1 2]\n",
            "<class 'numpy.ndarray'>\n"
          ]
        }
      ]
    },
    {
      "cell_type": "markdown",
      "source": [
        "# Dimension of array"
      ],
      "metadata": {
        "id": "XPsdP1tq2W2k"
      }
    },
    {
      "cell_type": "code",
      "source": [
        "a = np.array([[1, 3, 6], [5, 3, 2], [2, 6, 3]])\n",
        "\n",
        "print(a.ndim)                                              # It return dimensions of an array\n",
        "print(a)"
      ],
      "metadata": {
        "colab": {
          "base_uri": "https://localhost:8080/"
        },
        "id": "9bXzVXTz1m28",
        "outputId": "bedfb481-7b5e-4aff-cc8d-12b7b71bf8ed"
      },
      "execution_count": null,
      "outputs": [
        {
          "output_type": "stream",
          "name": "stdout",
          "text": [
            "2\n",
            "[[1 3 6]\n",
            " [5 3 2]\n",
            " [2 6 3]]\n"
          ]
        }
      ]
    },
    {
      "cell_type": "markdown",
      "source": [
        "# Shape of array"
      ],
      "metadata": {
        "id": "YH9sHu-I5SAv"
      }
    },
    {
      "cell_type": "code",
      "source": [
        "a.shape"
      ],
      "metadata": {
        "colab": {
          "base_uri": "https://localhost:8080/"
        },
        "id": "lWCL60h55UXn",
        "outputId": "bf9e9ec6-1299-4b5c-983d-d04c5a61160b"
      },
      "execution_count": null,
      "outputs": [
        {
          "output_type": "execute_result",
          "data": {
            "text/plain": [
              "(3, 3)"
            ]
          },
          "metadata": {},
          "execution_count": 11
        }
      ]
    },
    {
      "cell_type": "markdown",
      "source": [
        "# Indexing and Slicing"
      ],
      "metadata": {
        "id": "VM31mZyX5K2C"
      }
    },
    {
      "cell_type": "code",
      "source": [
        "a = np.array([[1, 3, 6], [5, 3, 2], [2, 6, 3], [5, 9, 6], [7, 5, 6]])   # A 2D array\n",
        "\n",
        "print(a[0][1])                                                          # Indexing starts from zero\n",
        "print(a[1])                                                             # print entire row\n",
        "\n",
        "print(a[:, 2])                                                          # print column third as index starts from 0\n",
        "print(a[0:3, 1])\n",
        "print(\"\\n Array: \\n\", a)"
      ],
      "metadata": {
        "colab": {
          "base_uri": "https://localhost:8080/"
        },
        "id": "WDkt5tIj2NP1",
        "outputId": "f46f0c24-b767-4d47-abf4-cad54533e70b"
      },
      "execution_count": null,
      "outputs": [
        {
          "output_type": "stream",
          "name": "stdout",
          "text": [
            "3\n",
            "[5 3 2]\n",
            "[6 2 3 6 6]\n",
            "[3 3 6]\n",
            "\n",
            " Array: \n",
            " [[1 3 6]\n",
            " [5 3 2]\n",
            " [2 6 3]\n",
            " [5 9 6]\n",
            " [7 5 6]]\n"
          ]
        }
      ]
    },
    {
      "cell_type": "markdown",
      "source": [
        "# Iterate in Array"
      ],
      "metadata": {
        "id": "lYfmIw0v72DP"
      }
    },
    {
      "cell_type": "code",
      "source": [
        "a = np.array([[1, 3, 6], [5, 3, 2], [2, 6, 3], [5, 9, 6], [7, 5, 6]])\n",
        "\n",
        "for x in a:\n",
        "  print(x)"
      ],
      "metadata": {
        "colab": {
          "base_uri": "https://localhost:8080/"
        },
        "id": "iJioF8DG5ml7",
        "outputId": "24a24a40-3f7c-47f4-874e-43b97f3948e5"
      },
      "execution_count": null,
      "outputs": [
        {
          "output_type": "stream",
          "name": "stdout",
          "text": [
            "[1 3 6]\n",
            "[5 3 2]\n",
            "[2 6 3]\n",
            "[5 9 6]\n",
            "[7 5 6]\n"
          ]
        }
      ]
    },
    {
      "cell_type": "code",
      "source": [
        "a = np.array([[1, 3, 6], [5, 3, 2], [2, 6, 3], [5, 9, 6], [7, 5, 6]])\n",
        "\n",
        "for x in a:\n",
        "  for y in x:\n",
        "    print(y, end = \" \")\n",
        "\n",
        "  print()"
      ],
      "metadata": {
        "colab": {
          "base_uri": "https://localhost:8080/"
        },
        "id": "MbwP38E_6gg-",
        "outputId": "6f5eb8d5-9117-42dc-b435-d9ef6d146d0d"
      },
      "execution_count": null,
      "outputs": [
        {
          "output_type": "stream",
          "name": "stdout",
          "text": [
            "1 3 6 \n",
            "5 3 2 \n",
            "2 6 3 \n",
            "5 9 6 \n",
            "7 5 6 \n"
          ]
        }
      ]
    },
    {
      "cell_type": "markdown",
      "source": [
        "# Comparison operation\n",
        "\n",
        "It is frequently used in manipulation and image processing"
      ],
      "metadata": {
        "id": "gleVszfS8N6X"
      }
    },
    {
      "cell_type": "code",
      "source": [
        "a = np.array([[1, 3, 6], [5, 3, 2], [2, 6, 3], [5, 9, 6], [7, 5, 6]])\n",
        "\n",
        "b = a > 3                                                                     # b is a list containing True and False corresponding to each element in a as per comparison\n",
        "\n",
        "print(b)\n",
        "print(a[b])                                                                   # prints element greater than 3"
      ],
      "metadata": {
        "colab": {
          "base_uri": "https://localhost:8080/"
        },
        "id": "CcILzE128G-a",
        "outputId": "175c93cc-cb53-4d8b-9eb0-3cec054902c3"
      },
      "execution_count": null,
      "outputs": [
        {
          "output_type": "stream",
          "name": "stdout",
          "text": [
            "[[False False  True]\n",
            " [ True False False]\n",
            " [False  True False]\n",
            " [ True  True  True]\n",
            " [ True  True  True]]\n",
            "[6 5 6 5 9 6 7 5 6]\n"
          ]
        }
      ]
    },
    {
      "cell_type": "code",
      "source": [
        "# Similarly, other operations can be performed\n",
        "\n",
        "print(a[a<2])\n",
        "print(a[a%2 == 0])"
      ],
      "metadata": {
        "colab": {
          "base_uri": "https://localhost:8080/"
        },
        "id": "O4MgHq3n8m7B",
        "outputId": "860a955d-6aab-40f5-f2a9-f3f2034fe633"
      },
      "execution_count": null,
      "outputs": [
        {
          "output_type": "stream",
          "name": "stdout",
          "text": [
            "[1]\n",
            "[6 2 2 6 6 6]\n"
          ]
        }
      ]
    },
    {
      "cell_type": "markdown",
      "source": [
        "# Producing sequence"
      ],
      "metadata": {
        "id": "GsJeFoFy9L0S"
      }
    },
    {
      "cell_type": "code",
      "source": [
        "arr = np.arange(10, 18)                     # It creates 1D array from 10 to 17 as 18 is excluded\n",
        "arr"
      ],
      "metadata": {
        "colab": {
          "base_uri": "https://localhost:8080/"
        },
        "id": "tWJYvi6-880y",
        "outputId": "24639f46-a4df-46f9-ba1b-93860f3eba33"
      },
      "execution_count": null,
      "outputs": [
        {
          "output_type": "execute_result",
          "data": {
            "text/plain": [
              "array([10, 11, 12, 13, 14, 15, 16, 17])"
            ]
          },
          "metadata": {},
          "execution_count": 30
        }
      ]
    },
    {
      "cell_type": "code",
      "source": [
        "arr = np.arange(1, 10, 2)                   # np.arange(start, stop, step)\n",
        "arr"
      ],
      "metadata": {
        "colab": {
          "base_uri": "https://localhost:8080/"
        },
        "id": "JI5kGBiw9p6Y",
        "outputId": "be93baf2-adab-4a13-941f-519f938e6a45"
      },
      "execution_count": null,
      "outputs": [
        {
          "output_type": "execute_result",
          "data": {
            "text/plain": [
              "array([1, 3, 5, 7, 9])"
            ]
          },
          "metadata": {},
          "execution_count": 31
        }
      ]
    },
    {
      "cell_type": "markdown",
      "source": [
        "# Reshaping array"
      ],
      "metadata": {
        "id": "udeA-ITC97Ma"
      }
    },
    {
      "cell_type": "code",
      "source": [
        "# Reshape function takes 2 arguements i.e. number of rows and columns\n",
        "arr = np.arange(1, 10).reshape(3,3)         # sequence produce 9 elements so product of number of rows and columns should be also 9\n",
        "arr"
      ],
      "metadata": {
        "colab": {
          "base_uri": "https://localhost:8080/"
        },
        "id": "ehNmRos3-CqK",
        "outputId": "5503528a-cd9a-4a94-c44e-63ac208e063e"
      },
      "execution_count": null,
      "outputs": [
        {
          "output_type": "execute_result",
          "data": {
            "text/plain": [
              "array([[1, 2, 3],\n",
              "       [4, 5, 6],\n",
              "       [7, 8, 9]])"
            ]
          },
          "metadata": {},
          "execution_count": 35
        }
      ]
    },
    {
      "cell_type": "markdown",
      "source": [
        "# Sorting Array"
      ],
      "metadata": {
        "id": "EE3qJI4_9ZmR"
      }
    },
    {
      "cell_type": "code",
      "source": [
        "a = np.array([[1, 3, 6], [5, 3, 2], [5, 9, 6], [2, 6, 3], [7, 5, 6]])\n",
        "\n",
        "a_sort = np.sort(a)                                                          # It sort the each row of array\n",
        "print(a_sort)"
      ],
      "metadata": {
        "colab": {
          "base_uri": "https://localhost:8080/"
        },
        "id": "JA79h6S_-sxC",
        "outputId": "7cb6be56-a1e4-4d4c-815f-02edc3404495"
      },
      "execution_count": null,
      "outputs": [
        {
          "output_type": "stream",
          "name": "stdout",
          "text": [
            "[[1 3 6]\n",
            " [2 3 5]\n",
            " [5 6 9]\n",
            " [2 3 6]\n",
            " [5 6 7]]\n"
          ]
        }
      ]
    },
    {
      "cell_type": "markdown",
      "source": [
        "# Types of matrix\n",
        "\n",
        "Numpy can produce different types of matrix like identity matrix, a matrix having all element zero, a matrix having all element one."
      ],
      "metadata": {
        "id": "POOluvw6-rn3"
      }
    },
    {
      "cell_type": "code",
      "source": [
        "ide = np.eye(3)                        # Gives idnetity matrix of given size\n",
        "ide"
      ],
      "metadata": {
        "id": "kP1c2cea_i5W",
        "colab": {
          "base_uri": "https://localhost:8080/"
        },
        "outputId": "b40ed40a-354b-4586-c8c2-5bab21f2f326"
      },
      "execution_count": 3,
      "outputs": [
        {
          "output_type": "execute_result",
          "data": {
            "text/plain": [
              "array([[1., 0., 0.],\n",
              "       [0., 1., 0.],\n",
              "       [0., 0., 1.]])"
            ]
          },
          "metadata": {},
          "execution_count": 3
        }
      ]
    },
    {
      "cell_type": "code",
      "source": [
        "ide = np.eye(3,2)\n",
        "ide"
      ],
      "metadata": {
        "colab": {
          "base_uri": "https://localhost:8080/"
        },
        "id": "OuN3gfMsYwUn",
        "outputId": "ef55d7b1-0fb4-4d3b-ab3b-3d925bb34827"
      },
      "execution_count": 4,
      "outputs": [
        {
          "output_type": "execute_result",
          "data": {
            "text/plain": [
              "array([[1., 0.],\n",
              "       [0., 1.],\n",
              "       [0., 0.]])"
            ]
          },
          "metadata": {},
          "execution_count": 4
        }
      ]
    },
    {
      "cell_type": "code",
      "source": [
        "np.zeros((2,4))                         # Gives matrix with all elements 0"
      ],
      "metadata": {
        "colab": {
          "base_uri": "https://localhost:8080/"
        },
        "id": "21cI5__sY1aB",
        "outputId": "acb3e1eb-3b07-49c1-a016-b8394c1575b4"
      },
      "execution_count": 5,
      "outputs": [
        {
          "output_type": "execute_result",
          "data": {
            "text/plain": [
              "array([[0., 0., 0., 0.],\n",
              "       [0., 0., 0., 0.]])"
            ]
          },
          "metadata": {},
          "execution_count": 5
        }
      ]
    },
    {
      "cell_type": "code",
      "source": [
        "np.ones((5,5))                           # Gives matrix with all elements 1"
      ],
      "metadata": {
        "colab": {
          "base_uri": "https://localhost:8080/"
        },
        "id": "bF7vys_IZGmS",
        "outputId": "20486b62-b010-40f7-c1aa-b0e326e9674c"
      },
      "execution_count": 11,
      "outputs": [
        {
          "output_type": "execute_result",
          "data": {
            "text/plain": [
              "array([[1., 1., 1., 1., 1.],\n",
              "       [1., 1., 1., 1., 1.],\n",
              "       [1., 1., 1., 1., 1.],\n",
              "       [1., 1., 1., 1., 1.],\n",
              "       [1., 1., 1., 1., 1.]])"
            ]
          },
          "metadata": {},
          "execution_count": 11
        }
      ]
    },
    {
      "cell_type": "markdown",
      "source": [
        "# Matrix operations"
      ],
      "metadata": {
        "id": "v78qR3P0ZPia"
      }
    },
    {
      "cell_type": "code",
      "source": [
        "a = np.eye(3)\n",
        "b = np.array([[2, 4, 6], [5, 6, 3], [8, 5, 2]])"
      ],
      "metadata": {
        "id": "P50ZK8JGZURu"
      },
      "execution_count": 8,
      "outputs": []
    },
    {
      "cell_type": "code",
      "source": [
        "# Addition\n",
        "\n",
        "sum = a + b\n",
        "sum"
      ],
      "metadata": {
        "colab": {
          "base_uri": "https://localhost:8080/"
        },
        "id": "_Z3mFUMWZNsk",
        "outputId": "4ed0492e-eedc-45dc-a3e8-613f7851bf01"
      },
      "execution_count": 20,
      "outputs": [
        {
          "output_type": "execute_result",
          "data": {
            "text/plain": [
              "array([[3., 4., 6.],\n",
              "       [5., 7., 3.],\n",
              "       [8., 5., 3.]])"
            ]
          },
          "metadata": {},
          "execution_count": 20
        }
      ]
    },
    {
      "cell_type": "code",
      "source": [
        "# Subtraction\n",
        "\n",
        "sub = a - b\n",
        "sub"
      ],
      "metadata": {
        "colab": {
          "base_uri": "https://localhost:8080/"
        },
        "id": "_yao8X0QZ9LC",
        "outputId": "94b9a004-c158-4476-cdf0-d92a9b1dca1e"
      },
      "execution_count": 19,
      "outputs": [
        {
          "output_type": "execute_result",
          "data": {
            "text/plain": [
              "array([[-1., -4., -6.],\n",
              "       [-5., -5., -3.],\n",
              "       [-8., -5., -1.]])"
            ]
          },
          "metadata": {},
          "execution_count": 19
        }
      ]
    },
    {
      "cell_type": "code",
      "source": [
        "# Normal matrix multiplication\n",
        "\n",
        "nmul = b @ sum\n",
        "nmul"
      ],
      "metadata": {
        "colab": {
          "base_uri": "https://localhost:8080/"
        },
        "id": "jtY8nMNPaEip",
        "outputId": "58545f3f-6d77-41bb-db83-8eb0af9ce8b3"
      },
      "execution_count": 22,
      "outputs": [
        {
          "output_type": "execute_result",
          "data": {
            "text/plain": [
              "array([[74., 66., 42.],\n",
              "       [69., 77., 57.],\n",
              "       [65., 77., 69.]])"
            ]
          },
          "metadata": {},
          "execution_count": 22
        }
      ]
    },
    {
      "cell_type": "code",
      "source": [
        "# Point-wise multiplication\n",
        "\n",
        "pmul = a * b\n",
        "pmul"
      ],
      "metadata": {
        "colab": {
          "base_uri": "https://localhost:8080/"
        },
        "id": "VFn6ZISRbgRU",
        "outputId": "f3ee18f6-463b-4db7-fd49-6a5cc6d5668b"
      },
      "execution_count": 23,
      "outputs": [
        {
          "output_type": "execute_result",
          "data": {
            "text/plain": [
              "array([[2., 0., 0.],\n",
              "       [0., 6., 0.],\n",
              "       [0., 0., 2.]])"
            ]
          },
          "metadata": {},
          "execution_count": 23
        }
      ]
    },
    {
      "cell_type": "code",
      "source": [
        "b[2] = b[2] * [0, 0, 0]                # changing one row of matrix using point-wise multiplication\n",
        "b"
      ],
      "metadata": {
        "colab": {
          "base_uri": "https://localhost:8080/"
        },
        "id": "jlWrmxdCckXk",
        "outputId": "89b222c6-13b5-446d-d820-119a3b502c51"
      },
      "execution_count": 25,
      "outputs": [
        {
          "output_type": "execute_result",
          "data": {
            "text/plain": [
              "array([[2, 4, 6],\n",
              "       [5, 6, 3],\n",
              "       [0, 0, 0]])"
            ]
          },
          "metadata": {},
          "execution_count": 25
        }
      ]
    },
    {
      "cell_type": "code",
      "source": [
        "b[b>5] = 0                             # changing all elements to zero which are greater than 5\n",
        "b"
      ],
      "metadata": {
        "colab": {
          "base_uri": "https://localhost:8080/"
        },
        "id": "DJOlaMqmcv-g",
        "outputId": "075fe6b5-b278-48b5-e61f-c92be770a8fd"
      },
      "execution_count": 26,
      "outputs": [
        {
          "output_type": "execute_result",
          "data": {
            "text/plain": [
              "array([[2, 4, 0],\n",
              "       [5, 0, 3],\n",
              "       [0, 0, 0]])"
            ]
          },
          "metadata": {},
          "execution_count": 26
        }
      ]
    },
    {
      "cell_type": "code",
      "source": [
        "# Dot product - Similiar to dot product of vectors\n",
        "\n",
        "arr = np.array([[2., 0., 0.], [0., 6., 0.], [0., 0., 2.]])\n",
        "dot = np.dot(arr, b)\n",
        "dot"
      ],
      "metadata": {
        "colab": {
          "base_uri": "https://localhost:8080/"
        },
        "id": "yPZEOOUJdJCi",
        "outputId": "7d2ec100-133f-439c-d70c-fc36fa2f5a67"
      },
      "execution_count": 28,
      "outputs": [
        {
          "output_type": "execute_result",
          "data": {
            "text/plain": [
              "array([[ 4.,  8.,  0.],\n",
              "       [30.,  0., 18.],\n",
              "       [ 0.,  0.,  0.]])"
            ]
          },
          "metadata": {},
          "execution_count": 28
        }
      ]
    },
    {
      "cell_type": "code",
      "source": [
        "# Matrix transpose\n",
        "\n",
        "tran = dot.T\n",
        "tran"
      ],
      "metadata": {
        "colab": {
          "base_uri": "https://localhost:8080/"
        },
        "id": "ph6-iAU3d2fv",
        "outputId": "26efbf23-28b1-4888-a8a8-a3a38b2b9d95"
      },
      "execution_count": 29,
      "outputs": [
        {
          "output_type": "execute_result",
          "data": {
            "text/plain": [
              "array([[ 4., 30.,  0.],\n",
              "       [ 8.,  0.,  0.],\n",
              "       [ 0., 18.,  0.]])"
            ]
          },
          "metadata": {},
          "execution_count": 29
        }
      ]
    }
  ]
}